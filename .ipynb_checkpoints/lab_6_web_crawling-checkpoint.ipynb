{
 "cells": [
  {
   "cell_type": "code",
   "execution_count": 1,
   "id": "d05f4286",
   "metadata": {},
   "outputs": [
    {
     "name": "stdout",
     "output_type": "stream",
     "text": [
      "Requirement already satisfied: holoviews in c:\\users\\norak\\appdata\\roaming\\python\\python310\\site-packages (1.18.0)\n",
      "Requirement already satisfied: param<3.0,>=1.12.0 in c:\\python310\\lib\\site-packages (from holoviews) (2.0.0)\n",
      "Requirement already satisfied: numpy>=1.0 in c:\\python310\\lib\\site-packages (from holoviews) (1.25.2)\n",
      "Requirement already satisfied: pyviz-comms>=0.7.4 in c:\\python310\\lib\\site-packages (from holoviews) (3.0.0)\n",
      "Requirement already satisfied: panel>=1.0 in c:\\users\\norak\\appdata\\roaming\\python\\python310\\site-packages (from holoviews) (1.3.0)\n",
      "Requirement already satisfied: colorcet in c:\\python310\\lib\\site-packages (from holoviews) (3.0.1)\n",
      "Requirement already satisfied: packaging in c:\\users\\norak\\appdata\\roaming\\python\\python310\\site-packages (from holoviews) (23.1)\n",
      "Requirement already satisfied: pandas>=0.20.0 in c:\\python310\\lib\\site-packages (from holoviews) (2.1.1)\n",
      "Requirement already satisfied: python-dateutil>=2.8.2 in c:\\users\\norak\\appdata\\roaming\\python\\python310\\site-packages (from pandas>=0.20.0->holoviews) (2.8.2)\n",
      "Requirement already satisfied: pytz>=2020.1 in c:\\python310\\lib\\site-packages (from pandas>=0.20.0->holoviews) (2023.3.post1)\n",
      "Requirement already satisfied: tzdata>=2022.1 in c:\\python310\\lib\\site-packages (from pandas>=0.20.0->holoviews) (2023.3)\n",
      "Requirement already satisfied: bokeh<3.4.0,>=3.2.0 in c:\\users\\norak\\appdata\\roaming\\python\\python310\\site-packages (from panel>=1.0->holoviews) (3.3.0)\n",
      "Requirement already satisfied: xyzservices>=2021.09.1 in c:\\python310\\lib\\site-packages (from panel>=1.0->holoviews) (2023.10.0)\n",
      "Requirement already satisfied: markdown in c:\\python310\\lib\\site-packages (from panel>=1.0->holoviews) (3.5)\n",
      "Requirement already satisfied: markdown-it-py in c:\\python310\\lib\\site-packages (from panel>=1.0->holoviews) (3.0.0)\n",
      "Requirement already satisfied: linkify-it-py in c:\\python310\\lib\\site-packages (from panel>=1.0->holoviews) (2.0.2)\n",
      "Requirement already satisfied: mdit-py-plugins in c:\\python310\\lib\\site-packages (from panel>=1.0->holoviews) (0.4.0)\n",
      "Requirement already satisfied: requests in c:\\users\\norak\\appdata\\roaming\\python\\python310\\site-packages (from panel>=1.0->holoviews) (2.31.0)\n",
      "Requirement already satisfied: tqdm>=4.48.0 in c:\\python310\\lib\\site-packages (from panel>=1.0->holoviews) (4.66.1)\n",
      "Requirement already satisfied: bleach in c:\\users\\norak\\appdata\\roaming\\python\\python310\\site-packages (from panel>=1.0->holoviews) (6.0.0)\n",
      "Requirement already satisfied: typing-extensions in c:\\users\\norak\\appdata\\roaming\\python\\python310\\site-packages (from panel>=1.0->holoviews) (4.8.0)\n",
      "Requirement already satisfied: pyct>=0.4.4 in c:\\python310\\lib\\site-packages (from colorcet->holoviews) (0.5.0)\n",
      "Requirement already satisfied: Jinja2>=2.9 in c:\\users\\norak\\appdata\\roaming\\python\\python310\\site-packages (from bokeh<3.4.0,>=3.2.0->panel>=1.0->holoviews) (3.1.2)\n",
      "Requirement already satisfied: contourpy>=1 in c:\\users\\norak\\appdata\\roaming\\python\\python310\\site-packages (from bokeh<3.4.0,>=3.2.0->panel>=1.0->holoviews) (1.1.1)\n",
      "Requirement already satisfied: pillow>=7.1.0 in c:\\python310\\lib\\site-packages (from bokeh<3.4.0,>=3.2.0->panel>=1.0->holoviews) (10.0.1)\n",
      "Requirement already satisfied: PyYAML>=3.10 in c:\\users\\norak\\appdata\\roaming\\python\\python310\\site-packages (from bokeh<3.4.0,>=3.2.0->panel>=1.0->holoviews) (6.0.1)\n",
      "Requirement already satisfied: tornado>=5.1 in c:\\users\\norak\\appdata\\roaming\\python\\python310\\site-packages (from bokeh<3.4.0,>=3.2.0->panel>=1.0->holoviews) (6.3.3)\n",
      "Requirement already satisfied: six>=1.5 in c:\\users\\norak\\appdata\\roaming\\python\\python310\\site-packages (from python-dateutil>=2.8.2->pandas>=0.20.0->holoviews) (1.16.0)\n",
      "Requirement already satisfied: colorama in c:\\users\\norak\\appdata\\roaming\\python\\python310\\site-packages (from tqdm>=4.48.0->panel>=1.0->holoviews) (0.4.6)\n",
      "Requirement already satisfied: webencodings in c:\\python310\\lib\\site-packages (from bleach->panel>=1.0->holoviews) (0.5.1)\n",
      "Requirement already satisfied: uc-micro-py in c:\\python310\\lib\\site-packages (from linkify-it-py->panel>=1.0->holoviews) (1.0.2)\n",
      "Requirement already satisfied: mdurl~=0.1 in c:\\python310\\lib\\site-packages (from markdown-it-py->panel>=1.0->holoviews) (0.1.2)\n",
      "Requirement already satisfied: charset-normalizer<4,>=2 in c:\\users\\norak\\appdata\\roaming\\python\\python310\\site-packages (from requests->panel>=1.0->holoviews) (3.2.0)\n",
      "Requirement already satisfied: idna<4,>=2.5 in c:\\users\\norak\\appdata\\roaming\\python\\python310\\site-packages (from requests->panel>=1.0->holoviews) (3.4)\n",
      "Requirement already satisfied: urllib3<3,>=1.21.1 in c:\\users\\norak\\appdata\\roaming\\python\\python310\\site-packages (from requests->panel>=1.0->holoviews) (2.0.5)\n",
      "Requirement already satisfied: certifi>=2017.4.17 in c:\\users\\norak\\appdata\\roaming\\python\\python310\\site-packages (from requests->panel>=1.0->holoviews) (2023.7.22)\n",
      "Requirement already satisfied: MarkupSafe>=2.0 in c:\\users\\norak\\appdata\\roaming\\python\\python310\\site-packages (from Jinja2>=2.9->bokeh<3.4.0,>=3.2.0->panel>=1.0->holoviews) (2.1.3)\n"
     ]
    },
    {
     "name": "stderr",
     "output_type": "stream",
     "text": [
      "WARNING: Ignoring invalid distribution - (c:\\python310\\lib\\site-packages)\n",
      "WARNING: Ignoring invalid distribution -p (c:\\python310\\lib\\site-packages)\n",
      "WARNING: Ignoring invalid distribution -p (c:\\python310\\lib\\site-packages)\n",
      "WARNING: Ignoring invalid distribution -ip (c:\\python310\\lib\\site-packages)\n",
      "WARNING: Ignoring invalid distribution - (c:\\python310\\lib\\site-packages)\n",
      "WARNING: Ignoring invalid distribution -p (c:\\python310\\lib\\site-packages)\n",
      "WARNING: Ignoring invalid distribution -p (c:\\python310\\lib\\site-packages)\n",
      "WARNING: Ignoring invalid distribution -ip (c:\\python310\\lib\\site-packages)\n",
      "\n",
      "[notice] A new release of pip is available: 23.2.1 -> 23.3.1\n",
      "[notice] To update, run: python.exe -m pip install --upgrade pip\n"
     ]
    }
   ],
   "source": [
    "!pip install holoviews --user"
   ]
  },
  {
   "cell_type": "code",
   "execution_count": 2,
   "id": "1185aef4",
   "metadata": {},
   "outputs": [
    {
     "name": "stdout",
     "output_type": "stream",
     "text": [
      "Requirement already satisfied: networkx in c:\\python310\\lib\\site-packages (3.2)\n",
      "Note: you may need to restart the kernel to use updated packages.\n"
     ]
    },
    {
     "name": "stderr",
     "output_type": "stream",
     "text": [
      "WARNING: Ignoring invalid distribution - (c:\\python310\\lib\\site-packages)\n",
      "WARNING: Ignoring invalid distribution -p (c:\\python310\\lib\\site-packages)\n",
      "WARNING: Ignoring invalid distribution -p (c:\\python310\\lib\\site-packages)\n",
      "WARNING: Ignoring invalid distribution -ip (c:\\python310\\lib\\site-packages)\n",
      "WARNING: Ignoring invalid distribution - (c:\\python310\\lib\\site-packages)\n",
      "WARNING: Ignoring invalid distribution -p (c:\\python310\\lib\\site-packages)\n",
      "WARNING: Ignoring invalid distribution -p (c:\\python310\\lib\\site-packages)\n",
      "WARNING: Ignoring invalid distribution -ip (c:\\python310\\lib\\site-packages)\n",
      "\n",
      "[notice] A new release of pip is available: 23.2.1 -> 23.3.1\n",
      "[notice] To update, run: python.exe -m pip install --upgrade pip\n"
     ]
    }
   ],
   "source": [
    "pip install networkx "
   ]
  },
  {
   "cell_type": "code",
   "execution_count": null,
   "id": "adcd55ac",
   "metadata": {},
   "outputs": [],
   "source": [
    "import re\n",
    "import requests\n",
    "import pandas as pd\n",
    "import holoviews as hv\n",
    "import networkx as nx\n",
    "from holoviews import opts\n",
    "from bs4 import BeautifulSoup\n",
    "from urllib.request import urljoin\n"
   ]
  },
  {
   "cell_type": "code",
   "execution_count": null,
   "id": "40bc10bd",
   "metadata": {},
   "outputs": [],
   "source": [
    "%%time\n",
    "\n",
    "sites = \"https://www.google.com/\" #@param {type:\"string\"}\n",
    "depth = 3 #@param {type:\"slider\", min:1, max:10, step:1}\n",
    "max_child = 10 #@param {type:\"slider\", min:1, max:100, step:1}\n",
    "\n",
    "def crawl(sites, depth=1, current_depth=0, max_child=10):\n",
    "    get_links = lambda site: pd.Series(urljoin(site, tag.get('href')) for tag in BeautifulSoup(requests.get(site).text).find_all('a')).drop_duplicates().head(max_child)\n",
    "    \n",
    "    sites = pd.concat([sites, pd.DataFrame([{'link': link, 'parent': site, 'depth': current_depth + 1}\n",
    "                                       for site in sites[sites.depth == current_depth].link\n",
    "                                       for link in get_links(site)])], \n",
    "                         ignore_index=True).drop_duplicates('link')\n",
    "    \n",
    "    if depth > current_depth + 1:\n",
    "        return crawl(sites, depth=depth, current_depth=current_depth+1, max_child=max_child)\n",
    "    else:\n",
    "        return sites\n",
    "\n",
    "\n",
    "result = crawl(sites=pd.DataFrame([{'link': site, 'depth': 0, 'parent': site} for site in sites.split()]), \n",
    "               max_child=max_child,\n",
    "               depth=depth)\n",
    "print(\"successful\")"
   ]
  },
  {
   "cell_type": "code",
   "execution_count": null,
   "id": "6c7ceb7a",
   "metadata": {},
   "outputs": [],
   "source": [
    "result"
   ]
  },
  {
   "cell_type": "code",
   "execution_count": 6,
   "id": "d5785be6",
   "metadata": {},
   "outputs": [],
   "source": [
    "# this is just the example scenarios\n",
    "# from the results you can see the links \"https://support.google.com/websearch\", \"https://play.google.com\"\n",
    "# it could be the all services google site"
   ]
  },
  {
   "cell_type": "code",
   "execution_count": 7,
   "id": "a41cc653",
   "metadata": {},
   "outputs": [
    {
     "data": {
      "text/plain": [
       "{'',\n",
       " 'accounts',\n",
       " 'admin',\n",
       " 'blog',\n",
       " 'calendar',\n",
       " 'classroom',\n",
       " 'console.cloud',\n",
       " 'crisisresponse',\n",
       " 'drive',\n",
       " 'learning',\n",
       " 'mail',\n",
       " 'maps',\n",
       " 'myaccount',\n",
       " 'news',\n",
       " 'play',\n",
       " 'policies',\n",
       " 'safety',\n",
       " 'support',\n",
       " 'sustainability',\n",
       " 'trends',\n",
       " 'workspace',\n",
       " 'youtube'}"
      ]
     },
     "execution_count": 7,
     "metadata": {},
     "output_type": "execute_result"
    }
   ],
   "source": [
    "#Task : write the regular expression to get all the services of google\n",
    "import re\n",
    "\n",
    "google_services = set()\n",
    "\n",
    "def get_service(url):\n",
    "    url = re.sub('.google.*|.com.*',\"\",url)\n",
    "    url = re.sub('https://|http://|www.|www',\"\",url)\n",
    "    return url\n",
    "\n",
    "for url in result['link']:\n",
    "    google_services.add(get_service(url))\n",
    "\n",
    "google_services"
   ]
  },
  {
   "cell_type": "code",
   "execution_count": 8,
   "id": "400e50d1",
   "metadata": {},
   "outputs": [],
   "source": [
    "#Task : Visualize the services : - how many services that google have? "
   ]
  },
  {
   "cell_type": "code",
   "execution_count": 9,
   "id": "d706ba59",
   "metadata": {},
   "outputs": [
    {
     "data": {
      "text/plain": [
       "22"
      ]
     },
     "execution_count": 9,
     "metadata": {},
     "output_type": "execute_result"
    }
   ],
   "source": [
    "len(google_services)"
   ]
  },
  {
   "cell_type": "code",
   "execution_count": 10,
   "id": "5fe78ac9",
   "metadata": {},
   "outputs": [
    {
     "name": "stderr",
     "output_type": "stream",
     "text": [
      "warning: in the working copy of 'lab_6_web_crawling.ipynb', LF will be replaced by CRLF the next time Git touches it\n"
     ]
    }
   ],
   "source": [
    "!git add ."
   ]
  },
  {
   "cell_type": "code",
   "execution_count": 11,
   "id": "59fd37a8",
   "metadata": {},
   "outputs": [
    {
     "name": "stderr",
     "output_type": "stream",
     "text": [
      "error: pathspec 'first commit' did not match any file(s) known to git\n"
     ]
    }
   ],
   "source": [
    "!git commit \"first commit\""
   ]
  },
  {
   "cell_type": "code",
   "execution_count": 12,
   "id": "34a0b583-067d-4daa-8d44-fc6b875d05dc",
   "metadata": {},
   "outputs": [
    {
     "name": "stderr",
     "output_type": "stream",
     "text": [
      "Everything up-to-date\n"
     ]
    }
   ],
   "source": [
    "!git push"
   ]
  },
  {
   "cell_type": "code",
   "execution_count": null,
   "id": "b60274ba-aaf9-4e29-888d-d6a4c07fbbbb",
   "metadata": {},
   "outputs": [],
   "source": []
  }
 ],
 "metadata": {
  "kernelspec": {
   "display_name": "Python 3 (ipykernel)",
   "language": "python",
   "name": "python3"
  },
  "language_info": {
   "codemirror_mode": {
    "name": "ipython",
    "version": 3
   },
   "file_extension": ".py",
   "mimetype": "text/x-python",
   "name": "python",
   "nbconvert_exporter": "python",
   "pygments_lexer": "ipython3",
   "version": "3.10.5"
  }
 },
 "nbformat": 4,
 "nbformat_minor": 5
}
