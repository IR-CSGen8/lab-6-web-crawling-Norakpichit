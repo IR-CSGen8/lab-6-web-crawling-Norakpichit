{
 "cells": [
  {
   "cell_type": "code",
   "execution_count": null,
   "id": "adcd55ac",
   "metadata": {},
   "outputs": [],
   "source": [
    "import re\n",
    "import requests\n",
    "import pandas as pd\n",
    "import holoviews as hv\n",
    "import networkx as nx\n",
    "from holoviews import opts\n",
    "from bs4 import BeautifulSoup\n",
    "from urllib.request import urljoin\n"
   ]
  },
  {
   "cell_type": "code",
   "execution_count": null,
   "id": "40bc10bd",
   "metadata": {},
   "outputs": [],
   "source": [
    "%%time\n",
    "\n",
    "sites = \"https://www.google.com/\" #@param {type:\"string\"}\n",
    "depth = 3 #@param {type:\"slider\", min:1, max:10, step:1}\n",
    "max_child = 10 #@param {type:\"slider\", min:1, max:100, step:1}\n",
    "\n",
    "def crawl(sites, depth=1, current_depth=0, max_child=10):\n",
    "    get_links = lambda site: pd.Series(urljoin(site, tag.get('href')) for tag in BeautifulSoup(requests.get(site).text).find_all('a')).drop_duplicates().head(max_child)\n",
    "    \n",
    "    sites = pd.concat([sites, pd.DataFrame([{'link': link, 'parent': site, 'depth': current_depth + 1}\n",
    "                                       for site in sites[sites.depth == current_depth].link\n",
    "                                       for link in get_links(site)])], \n",
    "                         ignore_index=True).drop_duplicates('link')\n",
    "    \n",
    "    if depth > current_depth + 1:\n",
    "        return crawl(sites, depth=depth, current_depth=current_depth+1, max_child=max_child)\n",
    "    else:\n",
    "        return sites\n",
    "\n",
    "\n",
    "result = crawl(sites=pd.DataFrame([{'link': site, 'depth': 0, 'parent': site} for site in sites.split()]), \n",
    "               max_child=max_child,\n",
    "               depth=depth)\n",
    "print(\"successful\")"
   ]
  },
  {
   "cell_type": "code",
   "execution_count": null,
   "id": "6c7ceb7a",
   "metadata": {},
   "outputs": [],
   "source": [
    "result"
   ]
  },
  {
   "cell_type": "code",
   "execution_count": null,
   "id": "d5785be6",
   "metadata": {},
   "outputs": [],
   "source": [
    "# this is just the example scenarios\n",
    "# from the results you can see the links \"https://support.google.com/websearch\", \"https://play.google.com\"\n",
    "# it could be the all services google site"
   ]
  },
  {
   "cell_type": "code",
   "execution_count": null,
   "id": "a41cc653",
   "metadata": {},
   "outputs": [],
   "source": [
    "#Task : write the regular expression to get all the services of google\n",
    "import re\n",
    "\n",
    "google_services = set()\n",
    "\n",
    "def get_service(url):\n",
    "    url = re.sub('.google.*|.com.*',\"\",url)\n",
    "    url = re.sub('https://|http://|www.|www',\"\",url)\n",
    "    return url\n",
    "\n",
    "for url in result['link']:\n",
    "    google_services.add(get_service(url))\n",
    "\n",
    "google_services"
   ]
  },
  {
   "cell_type": "code",
   "execution_count": null,
   "id": "400e50d1",
   "metadata": {},
   "outputs": [],
   "source": [
    "#Task : Visualize the services : - how many services that google have? "
   ]
  },
  {
   "cell_type": "code",
   "execution_count": null,
   "id": "d706ba59",
   "metadata": {},
   "outputs": [],
   "source": [
    "len(google_services)"
   ]
  },
  {
   "cell_type": "code",
   "execution_count": null,
   "id": "5fe78ac9",
   "metadata": {},
   "outputs": [],
   "source": [
    "!git add ."
   ]
  },
  {
   "cell_type": "code",
   "execution_count": null,
   "id": "59fd37a8",
   "metadata": {},
   "outputs": [],
   "source": [
    "!git commit -m \"submit\""
   ]
  },
  {
   "cell_type": "code",
   "execution_count": null,
   "id": "34a0b583-067d-4daa-8d44-fc6b875d05dc",
   "metadata": {},
   "outputs": [],
   "source": [
    "!git push"
   ]
  },
  {
   "cell_type": "code",
   "execution_count": null,
   "id": "b60274ba-aaf9-4e29-888d-d6a4c07fbbbb",
   "metadata": {},
   "outputs": [],
   "source": []
  }
 ],
 "metadata": {
  "kernelspec": {
   "display_name": "Python 3 (ipykernel)",
   "language": "python",
   "name": "python3"
  },
  "language_info": {
   "codemirror_mode": {
    "name": "ipython",
    "version": 3
   },
   "file_extension": ".py",
   "mimetype": "text/x-python",
   "name": "python",
   "nbconvert_exporter": "python",
   "pygments_lexer": "ipython3",
   "version": "3.10.5"
  }
 },
 "nbformat": 4,
 "nbformat_minor": 5
}
